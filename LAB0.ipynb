{
 "cells": [
  {
   "cell_type": "code",
   "execution_count": 16,
   "metadata": {},
   "outputs": [
    {
     "name": "stdout",
     "output_type": "stream",
     "text": [
      "Note: you may need to restart the kernel to use updated packages.\n"
     ]
    },
    {
     "name": "stderr",
     "output_type": "stream",
     "text": [
      "The system cannot find the path specified.\n"
     ]
    }
   ],
   "source": [
    "%pip install torchprofile 1>/dev/null"
   ]
  },
  {
   "cell_type": "code",
   "execution_count": 17,
   "metadata": {},
   "outputs": [],
   "source": [
    "import random\n",
    "from collections import OrderedDict, defaultdict\n",
    "\n",
    "import numpy as np\n",
    "import os\n",
    "import torch\n",
    "from matplotlib import pyplot as plt\n",
    "from torch import nn\n",
    "import trimesh\n",
    "from torch.optim import *\n",
    "from torch.optim.lr_scheduler import *\n",
    "from torch.utils.data import DataLoader\n",
    "from torchprofile import profile_macs\n",
    "from torchvision.datasets import *\n",
    "from torch_geometric.data import Data\n",
    "from torch.utils.data import random_split, DataLoader\n",
    "import shutil\n",
    "from sklearn.model_selection import train_test_split\n",
    "from torchvision.transforms import *\n",
    "import glob\n",
    "from tqdm.auto import tqdm\n",
    "from torch_geometric.datasets import ShapeNet\n",
    "import torch_geometric.transforms as T\n"
   ]
  },
  {
   "cell_type": "code",
   "execution_count": 18,
   "metadata": {},
   "outputs": [],
   "source": [
    "#ensure reproducibility \n",
    "random.seed(0)\n",
    "np.random.seed(0)\n",
    "torch.manual_seed(0)\n",
    "torch.cuda.manual_seed_all(0)"
   ]
  },
  {
   "cell_type": "code",
   "execution_count": 21,
   "metadata": {},
   "outputs": [],
   "source": [
    "import os\n",
    "import open3d as o3d\n",
    "import torch\n",
    "from torch.utils.data import Dataset\n",
    "\n",
    "class PointCloudDataset(Dataset):\n",
    "    def __init__(self, root_dir, num_points=1024, transform=None):\n",
    "        self.root_dir = root_dir\n",
    "        self.num_points = num_points\n",
    "        self.transform = transform\n",
    "        self.files = []\n",
    "        self.labels = []\n",
    "\n",
    "        # Read the PLY files and their labels\n",
    "        for label, class_dir in enumerate(os.listdir(root_dir)):\n",
    "            class_path = os.path.join(root_dir, class_dir)\n",
    "            if os.path.isdir(class_path):\n",
    "                for file in os.listdir(class_path):\n",
    "                    if file.endswith('.ply'):  # Check for PLY files\n",
    "                        self.files.append(os.path.join(class_path, file))\n",
    "                        self.labels.append(label)\n",
    "\n",
    "    def __len__(self):\n",
    "        return len(self.files)\n",
    "\n",
    "    def __getitem__(self, idx):\n",
    "        # Load the point cloud file\n",
    "        pcd = o3d.io.read_point_cloud(self.files[idx])\n",
    "        point_cloud = np.asarray(pcd.points)  # Get the points as a NumPy array\n",
    "        if point_cloud.shape[0] > self.num_points:\n",
    "            point_cloud = point_cloud[np.random.choice(point_cloud.shape[0], self.num_points, replace=False), :]\n",
    "        elif point_cloud.shape[0] < self.num_points:\n",
    "            # If there are not enough points, you can either pad or replicate points\n",
    "            point_cloud = np.pad(point_cloud, ((0, self.num_points - point_cloud.shape[0]), (0, 0)), mode='edge')\n",
    "\n",
    "        point_cloud = torch.FloatTensor(point_cloud)\n",
    "\n",
    "        label = self.labels[idx]\n",
    "\n",
    "        if self.transform:\n",
    "            point_cloud = self.transform(point_cloud)\n",
    "\n",
    "        return point_cloud, label\n",
    "    \n",
    "    def print_dataset_info(self):\n",
    "        \n",
    "        unique_labels, counts = np.unique(self.labels, return_counts=True)\n",
    "        \n",
    "        \n",
    "        print('Label distribution:')\n",
    "        for label, count in zip(unique_labels, counts):\n",
    "            print(f'Label {label}: {count} samples')\n",
    "\n",
    "        \n"
   ]
  },
  {
   "cell_type": "code",
   "execution_count": 20,
   "metadata": {},
   "outputs": [
    {
     "name": "stdout",
     "output_type": "stream",
     "text": [
      "Label distribution:\n",
      "Label 0: 1813 samples\n",
      "Label 1: 498 samples\n",
      "Label 2: 651 samples\n",
      "Label 3: 744 samples\n",
      "Label 4: 596 samples\n",
      "Label 5: 460 samples\n",
      "Label 6: 1597 samples\n",
      "Label 7: 152 samples\n",
      "Label 8: 1089 samples\n"
     ]
    }
   ],
   "source": [
    "root_dir = './PointClouds'\n",
    "dataset = PointCloudDataset(root_dir=root_dir)\n",
    "dataset.print_dataset_info()"
   ]
  },
  {
   "cell_type": "code",
   "execution_count": 13,
   "metadata": {},
   "outputs": [
    {
     "name": "stdout",
     "output_type": "stream",
     "text": [
      "6080\n",
      "1520\n"
     ]
    }
   ],
   "source": [
    "# Split the dataset into training and testing sets\n",
    "from torch.utils.data import DataLoader, Subset\n",
    "train_indices, test_indices = train_test_split(range(len(dataset)), test_size=0.2, random_state=42)\n",
    "\n",
    "# Create subsets for training and testing\n",
    "train_dataset = Subset(dataset, train_indices)\n",
    "test_dataset = Subset(dataset, test_indices)\n",
    "\n",
    "print(len(train_dataset))\n",
    "print(len(test_dataset))\n"
   ]
  },
  {
   "cell_type": "code",
   "execution_count": 22,
   "metadata": {},
   "outputs": [],
   "source": [
    "# Create DataLoaders\n",
    "train_loader = DataLoader(train_dataset, batch_size=32, shuffle=True)\n",
    "test_loader = DataLoader(test_dataset, batch_size=32, shuffle=False)\n"
   ]
  },
  {
   "cell_type": "code",
   "execution_count": 9,
   "metadata": {},
   "outputs": [],
   "source": [
    "# class VGG(nn.Module):\n",
    "#   ARCH = [64, 128, 'M', 256, 256, 'M', 512, 512, 'M', 512, 512, 'M']\n",
    "\n",
    "#   def __init__(self) -> None:\n",
    "#     super().__init__()\n",
    "\n",
    "#     layers = []\n",
    "#     counts = defaultdict(int)\n",
    "\n",
    "#     def add(name: str, layer: nn.Module) -> None:\n",
    "#       layers.append((f\"{name}{counts[name]}\", layer))\n",
    "#       counts[name] += 1\n",
    "\n",
    "#     in_channels = 3\n",
    "#     for x in self.ARCH:\n",
    "#       if x != 'M':\n",
    "#         # conv-bn-relu\n",
    "#         add(\"conv\", nn.Conv2d(in_channels, x, 3, padding=1, bias=False))\n",
    "#         add(\"bn\", nn.BatchNorm2d(x))\n",
    "#         add(\"relu\", nn.ReLU(True))\n",
    "#         in_channels = x\n",
    "#       else:\n",
    "#         # maxpool\n",
    "#         add(\"pool\", nn.MaxPool2d(2))\n",
    "\n",
    "#     self.backbone = nn.Sequential(OrderedDict(layers))\n",
    "#     self.classifier = nn.Linear(512, 10)\n",
    "\n",
    "#   def forward(self, x: torch.Tensor) -> torch.Tensor:\n",
    "#     # backbone: [N, 3, 32, 32] => [N, 512, 2, 2]\n",
    "#     x = self.backbone(x)\n",
    "\n",
    "#     # avgpool: [N, 512, 2, 2] => [N, 512]\n",
    "#     x = x.mean([2, 3])\n",
    "\n",
    "#     # classifier: [N, 512] => [N, 10]\n",
    "#     x = self.classifier(x)\n",
    "#     return x\n",
    "\n",
    "# model = VGG()"
   ]
  },
  {
   "cell_type": "code",
   "execution_count": 23,
   "metadata": {},
   "outputs": [
    {
     "name": "stdout",
     "output_type": "stream",
     "text": [
      "torch.Size([8, 9])\n"
     ]
    }
   ],
   "source": [
    "#Switchup to point net\n",
    "import torch\n",
    "import torch.nn as nn\n",
    "\n",
    "class PointNet(nn.Module):\n",
    "    def __init__(self):\n",
    "        super(PointNet, self).__init__()\n",
    "        self.fc1 = nn.Linear(3, 64)\n",
    "        self.fc2 = nn.Linear(64, 128)\n",
    "        self.fc3 = nn.Linear(128, 1024)\n",
    "        self.fc4 = nn.Linear(1024, 9)  # Adjust the output size as needed\n",
    "\n",
    "    def forward(self, x):\n",
    "        # x shape: (batch_size, num_points, 3)\n",
    "        x = torch.relu(self.fc1(x))\n",
    "        x = torch.relu(self.fc2(x))\n",
    "        x = torch.max(x, dim=1)[0]  # Max pooling over the point dimension\n",
    "        x = self.fc3(x)\n",
    "        x = self.fc4(x)\n",
    "        return x\n",
    "\n",
    "# Example usage:\n",
    "model = PointNet()\n",
    "input_tensor = torch.randn(8, 1024, 3)  # Batch size of 8, 1024 points, each with (x, y, z)\n",
    "output = model(input_tensor)\n",
    "print(output.shape)  # Should output: torch.Size([8, 10])\n"
   ]
  },
  {
   "cell_type": "code",
   "execution_count": 24,
   "metadata": {},
   "outputs": [
    {
     "name": "stdout",
     "output_type": "stream",
     "text": [
      "Epoch [1/20], Loss: 1.0007\n",
      "Epoch [2/20], Loss: 0.5915\n",
      "Epoch [3/20], Loss: 0.5126\n",
      "Epoch [4/20], Loss: 0.4598\n",
      "Epoch [5/20], Loss: 0.4426\n",
      "Epoch [6/20], Loss: 0.4170\n",
      "Epoch [7/20], Loss: 0.4001\n",
      "Epoch [8/20], Loss: 0.3904\n",
      "Epoch [9/20], Loss: 0.3834\n",
      "Epoch [10/20], Loss: 0.3766\n",
      "Epoch [11/20], Loss: 0.3743\n",
      "Epoch [12/20], Loss: 0.3592\n",
      "Epoch [13/20], Loss: 0.3493\n",
      "Epoch [14/20], Loss: 0.3437\n",
      "Epoch [15/20], Loss: 0.3576\n",
      "Epoch [16/20], Loss: 0.3305\n",
      "Epoch [17/20], Loss: 0.3546\n",
      "Epoch [18/20], Loss: 0.3237\n",
      "Epoch [19/20], Loss: 0.3138\n",
      "Epoch [20/20], Loss: 0.3038\n",
      "Accuracy of the model on the test set: 88.55%\n"
     ]
    }
   ],
   "source": [
    "import torch.optim as optim\n",
    "\n",
    "# Initialize your model\n",
    "model = PointNet()\n",
    "criterion = nn.CrossEntropyLoss()  # Use appropriate loss function\n",
    "optimizer = optim.Adam(model.parameters(), lr=0.001)\n",
    "\n",
    "# Training loop\n",
    "num_epochs = 20\n",
    "\n",
    "for epoch in range(num_epochs):\n",
    "    model.train()  # Set the model to training mode\n",
    "    running_loss = 0.0\n",
    "\n",
    "    for inputs, labels in train_loader:\n",
    "        optimizer.zero_grad()  # Clear previous gradients\n",
    "        outputs = model(inputs)  # Forward pass\n",
    "        loss = criterion(outputs, labels)  # Compute loss\n",
    "        loss.backward()  # Backward pass\n",
    "        optimizer.step()  # Update weights\n",
    "        running_loss += loss.item()\n",
    "\n",
    "    print(f'Epoch [{epoch + 1}/{num_epochs}], Loss: {running_loss / len(train_loader):.4f}')\n",
    "\n",
    "# Evaluation loop\n",
    "model.eval()  # Set the model to evaluation mode\n",
    "correct = 0\n",
    "total = 0\n",
    "\n",
    "with torch.no_grad():\n",
    "    for inputs, labels in test_loader:\n",
    "        outputs = model(inputs)  # Forward pass\n",
    "        _, predicted = torch.max(outputs.data, 1)  # Get predicted labels\n",
    "        total += labels.size(0)  # Increment total count\n",
    "        correct += (predicted == labels).sum().item()  # Increment correct count\n",
    "\n",
    "print(f'Accuracy of the model on the test set: {100 * correct / total:.2f}%')\n"
   ]
  },
  {
   "cell_type": "code",
   "execution_count": 12,
   "metadata": {},
   "outputs": [
    {
     "name": "stdout",
     "output_type": "stream",
     "text": [
      "Predicted class: 6\n"
     ]
    }
   ],
   "source": [
    "import torch\n",
    "import numpy as np\n",
    "import open3d as o3d  # To handle PLY files easily\n",
    "from torchvision import transforms\n",
    "\n",
    "# Load the PointNet model\n",
    "model = PointNet()\n",
    "model.eval()  # Set the model to evaluation mode\n",
    "\n",
    "# Function to load and preprocess the point cloud\n",
    "def load_point_cloud(file_path):\n",
    "    # Load point cloud from PLY file\n",
    "    pcd = o3d.io.read_point_cloud(file_path)\n",
    "    points = np.asarray(pcd.points)  # Get the points as a NumPy array\n",
    "    \n",
    "    # Ensure the point cloud has the correct number of points (e.g., 1024)\n",
    "    if points.shape[0] < 1024:\n",
    "        # Pad with zeros if there are fewer points\n",
    "        padding = np.zeros((1024 - points.shape[0], 3))\n",
    "        points = np.vstack((points, padding))\n",
    "    elif points.shape[0] > 1024:\n",
    "        # Randomly sample 1024 points if there are more than needed\n",
    "        indices = np.random.choice(points.shape[0], 1024, replace=False)\n",
    "        points = points[indices]\n",
    "    \n",
    "    # Convert to PyTorch tensor and reshape\n",
    "    points_tensor = torch.tensor(points, dtype=torch.float32).unsqueeze(0)  # Shape: (1, 1024, 3)\n",
    "    return points_tensor\n",
    "\n",
    "# Test the model with a single point cloud\n",
    "file_path = './PointClouds/faucet/1a5586fc147de3214b35a7d7cea7130_models_model_normalized.ply'  # Replace with your file path\n",
    "point_cloud_tensor = load_point_cloud(file_path)\n",
    "\n",
    "# Make predictions\n",
    "with torch.no_grad():  # No need to compute gradients during testing\n",
    "    output = model(point_cloud_tensor)\n",
    "\n",
    "# Get predicted class (assuming softmax output)\n",
    "predicted_class = torch.argmax(output, dim=1)\n",
    "\n",
    "print(f'Predicted class: {predicted_class.item()}')\n",
    "\n"
   ]
  },
  {
   "cell_type": "code",
   "execution_count": 13,
   "metadata": {},
   "outputs": [
    {
     "data": {
      "image/png": "[encoded data removed]",
      "text/plain": [
       "<Figure size 1000x600 with 9 Axes>"
      ]
     },
     "metadata": {},
     "output_type": "display_data"
    }
   ],
   "source": [
    "def plot_weight_distribution(model, bins=256, count_nonzero_only=False):\n",
    "    fig, axes = plt.subplots(3,3, figsize=(10, 6))\n",
    "    axes = axes.ravel()\n",
    "    plot_index = 0\n",
    "    for name, param in model.named_parameters():\n",
    "        if param.dim() > 1:\n",
    "            ax = axes[plot_index]\n",
    "            if count_nonzero_only:\n",
    "                param_cpu = param.detach().view(-1).cpu()\n",
    "                param_cpu = param_cpu[param_cpu != 0].view(-1)\n",
    "                ax.hist(param_cpu, bins=bins, density=True,\n",
    "                        color = 'blue', alpha = 0.5)\n",
    "            else:\n",
    "                ax.hist(param.detach().view(-1).cpu(), bins=bins, density=True,\n",
    "                        color = 'blue', alpha = 0.5)\n",
    "            ax.set_xlabel(name)\n",
    "            ax.set_ylabel('density')\n",
    "            plot_index += 1\n",
    "    fig.suptitle('Histogram of Weights')\n",
    "    fig.tight_layout()\n",
    "    fig.subplots_adjust(top=0.925)\n",
    "    plt.show()\n",
    "\n",
    "plot_weight_distribution(model)"
   ]
  }
 ],
 "metadata": {
  "kernelspec": {
   "display_name": "Python 3",
   "language": "python",
   "name": "python3"
  },
  "language_info": {
   "codemirror_mode": {
    "name": "ipython",
    "version": 3
   },
   "file_extension": ".py",
   "mimetype": "text/x-python",
   "name": "python",
   "nbconvert_exporter": "python",
   "pygments_lexer": "ipython3",
   "version": "3.11.9"
  }
 },
 "nbformat": 4,
 "nbformat_minor": 2
}
